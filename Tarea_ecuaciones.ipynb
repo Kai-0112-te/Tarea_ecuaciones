{
  "nbformat": 4,
  "nbformat_minor": 0,
  "metadata": {
    "colab": {
      "provenance": [],
      "toc_visible": true,
      "include_colab_link": true
    },
    "kernelspec": {
      "name": "python3",
      "display_name": "Python 3"
    },
    "language_info": {
      "name": "python"
    }
  },
  "cells": [
    {
      "cell_type": "markdown",
      "metadata": {
        "id": "view-in-github",
        "colab_type": "text"
      },
      "source": [
        "<a href=\"https://colab.research.google.com/github/Kai-0112-te/Tarea_ecuaciones/blob/Ecuaci%C3%B3n-de-la-velocidad-angular/Tarea_ecuaciones.ipynb\" target=\"_parent\"><img src=\"https://colab.research.google.com/assets/colab-badge.svg\" alt=\"Open In Colab\"/></a>"
      ]
    },
    {
      "cell_type": "markdown",
      "source": [
        "# **Introducción**\n",
        "Este cuaderno tiene como objetivo resolver tres diferentes ecuaciones aplicadas en diversos campos de la fisica y de las matematicas. A lo largo de este trabajo, abordaremos  la ecuación de regresión logística, la ecuación de la energía cinética y la ecuación de la velocidad angularen un movimiento circular uniforme. Cada sección incluye una explicación teórica y el código en python para su resolución númerica. Por parejas y/o tríos se organizaron los integrantes para trabajar activamente en la resolución de cada ecuación.\n",
        "\n",
        "**Integrantes:**\n",
        "\n",
        "* *Keiner Cuello Oviedo*\n",
        "* *Vanessa Perez Gomez*\n",
        "* *Carlos Hernandez Badel*\n",
        "* *Miguel Peña Contreras*\n",
        "* *Breiner Ramos Arias*\n",
        "* *Kaira Roldán Gonzalez*\n",
        "* *Annie Vellojin Espeleta*"
      ],
      "metadata": {
        "id": "Fd0tEOEGxqD9"
      }
    },
    {
      "cell_type": "markdown",
      "source": [
        "## **Ecuación de la regresión logística**\n",
        "\n",
        "La ecuación de la regresión logística se utiliza en problemas de clasificación binaria para predecir la probabilidad de que una variable dependiente \\( y \\) tome el valor de 1. Su forma es:\n",
        "\n",
        "$$\n",
        "P(y = 1) = \\frac{1}{1 + e^{-(mx + b)}}\n",
        "$$\n",
        "\n",
        "Donde:\n",
        "* \\( P(y = 1) \\) es la probabilidad de que \\( y \\) sea igual a 1.\n",
        "* \\( x \\) es la variable independiente.\n",
        "* \\( m \\) y \\( b \\) son los parámetros de la regresión.\n",
        "\n",
        "La regresión logística es un modelo estadístico utilizado para modelar la probabilidad de ocurrencia de un evento binario. La probabilidad predicha está limitada al rango de 0 a 1, y esto es posible debido a la función sigmoide representada en la ecuación. Es muy utilizada en problemas de clasificación, como la predicción de si un cliente comprará un producto o no."
      ],
      "metadata": {
        "id": "qjU7AxM2vfNG"
      }
    },
    {
      "cell_type": "code",
      "source": [
        "import numpy as np\n",
        "\n",
        "def regresion_logistica(x, m, b):\n",
        "  \"\"\"Calcula la probabilidad de y = 1 usando la regresión logística.\n",
        "\n",
        "  Args:\n",
        "    x: La variable independiente.\n",
        "    m: La pendiente.\n",
        "    b: La intersección.\n",
        "\n",
        "  Returns:\n",
        "    La probabilidad de que y sea igual a 1.\n",
        "  \"\"\"\n",
        "  return 1 / (1 + np.exp(-(m * x + b)))\n",
        "# Probabilidad\n",
        "x = float(input(\"Ingrese el valor de x: \"))\n",
        "m = float(input(\"Ingrese el valor de m: \"))\n",
        "b = float(input(\"Ingrese el valor de b: \"))\n",
        "probabilidad = regresion_logistica(x, m, b)\n",
        "\n",
        "print(f\"La probabilidad de que y sea igual a 1 cuando x = {x}, m = {m}, y b = {b} es: {probabilidad}\")\n"
      ],
      "metadata": {
        "id": "CyeNZ9HfvqPy",
        "collapsed": true
      },
      "execution_count": null,
      "outputs": []
    },
    {
      "cell_type": "markdown",
      "source": [
        "## **Ecuación de la energía cinética**\n",
        "\n",
        "La energía cinética de un objeto en movimiento está dada por la siguiente ecuación:\n",
        "\n",
        "$$\n",
        "KE = \\frac{1}{2}mv^2\n",
        "$$\n",
        "\n",
        "Donde:\n",
        "* $( KE )$ es la energía cinética.\n",
        "* $( m )$ es la masa del objeto.\n",
        "* $( v )$ es la velocidad del objeto.\n",
        "\n",
        "\n",
        "La energía cinética es la energía que posee un objeto debido a su movimiento. Depende tanto de la masa como del cuadrado de la velocidad. Es una forma de energía mecánica y se puede utilizar para describir la energía asociada con cualquier objeto en movimiento.\n"
      ],
      "metadata": {
        "id": "-vfE2fZXy-TR"
      }
    },
    {
      "cell_type": "code",
      "source": [
        "def calcular_energia_cinetica(masa, velocidad):\n",
        "  \"\"\"Calcula la energía cinética de un objeto.\n",
        "\n",
        "  Args:\n",
        "    masa: La masa del objeto en kilogramos (kg).\n",
        "    velocidad: La velocidad del objeto en metros por segundo (m/s).\n",
        "\n",
        "  Returns:\n",
        "    La energía cinética del objeto en julios (J).\n",
        "  \"\"\"\n",
        "\n",
        "  # Calcula la energía cinética usando la fórmula: KE = 0.5 * m * v^2\n",
        "  energia_cinetica = 0.5 * masa * velocidad**2\n",
        "\n",
        "  return energia_cinetica\n",
        "\n",
        "# Energia cinetica:\n",
        "masa_del_objeto = float(input(\"Ingrese la masa del objeto (kg): \"))\n",
        "velocidad_del_objeto = float(input(\"Ingrese la velocidad del objeto (m/s): \"))\n",
        "\n",
        "# Calcula la energía cinética del objeto\n",
        "energia_cinetica_del_objeto = calcular_energia_cinetica(masa_del_objeto, velocidad_del_objeto)\n",
        "\n",
        "# Imprime el resultado con formato\n",
        "print(f\"La energía cinética del objeto con una masa de {masa_del_objeto} kg y una velocidad de {velocidad_del_objeto} m/s es: {energia_cinetica_del_objeto} J\")"
      ],
      "metadata": {
        "id": "Pai5ZjHazGUP"
      },
      "execution_count": null,
      "outputs": []
    },
    {
      "cell_type": "markdown",
      "source": [
        "## **Ecuación de la velocidad angular**\n",
        "\n",
        "La velocidad angular en un movimiento circular uniforme está dada por la siguiente ecuación:\n",
        "\n",
        "$$\n",
        "\\omega = \\frac{\\Delta \\theta}{\\Delta t}\n",
        "$$\n",
        "\n",
        "Donde:\n",
        "* $( \\omega )$ es la velocidad angular.\n",
        "* $( \\Delta \\theta)$ es el cambio en el ángulo (en radianes).\n",
        "* $( \\Delta t )$ es el cambio en el tiempo.\n",
        "\n",
        "\n",
        "La velocidad angular mide la rapidez con la que un objeto gira o rota sobre un eje fijo. Es una cantidad vectorial y se expresa en radianes por segundo (rad/s). Se utiliza para describir el movimiento rotacional de objetos, y está directamente relacionada con la velocidad tangencial de un punto en la periferia del objeto en rotación.\n"
      ],
      "metadata": {
        "id": "2rmTefMi6yCZ"
      }
    },
    {
      "source": [
        "def calcular_velocidad_angular(cambio_angulo, cambio_tiempo):\n",
        "  \"\"\"Calcula la velocidad angular.\n",
        "\n",
        "  Args:\n",
        "    cambio_angulo: El cambio en el ángulo en radianes.\n",
        "    cambio_tiempo: El cambio en el tiempo en segundos.\n",
        "\n",
        "  Returns:\n",
        "    La velocidad angular en radianes por segundo.\n",
        "  \"\"\"\n",
        "  velocidad_angular = cambio_angulo / cambio_tiempo\n",
        "  return velocidad_angular\n",
        "\n",
        "# Ejemplo de uso\n",
        "cambio_angulo = 2 * 3.14159  # 2π radianes (una revolución completa)\n",
        "cambio_tiempo = 5  # segundos\n",
        "\n",
        "velocidad_angular = calcular_velocidad_angular(cambio_angulo, cambio_tiempo)\n",
        "\n",
        "print(f\"La velocidad angular es: {velocidad_angular} rad/s\")"
      ],
      "cell_type": "code",
      "metadata": {
        "id": "tBnEc7L-UR3T"
      },
      "execution_count": null,
      "outputs": []
    },
    {
      "cell_type": "markdown",
      "source": [
        "# **Conclusión**\n",
        "\n",
        "En este cuaderno hemos resuelto tres ecuaciones fundamentales en diferentes áreas de la física y las matemáticas. La regresión logística nos permitió modelar la probabilidad de un evento binario, la ecuación de la energía cinética nos mostró cómo calcular la energía de un objeto en movimiento, y la ecuación de la velocidad angular nos permitió analizar el movimiento rotacional. El uso de Python nos facilitó el cálculo y la visualización de los resultados, mostrando su utilidad en la resolución de problemas matemáticos y físicos.\n"
      ],
      "metadata": {
        "id": "sEwgGMIh9Dd2"
      }
    }
  ]
}